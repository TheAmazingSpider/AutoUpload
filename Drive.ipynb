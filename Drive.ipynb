{
 "cells": [
  {
   "cell_type": "code",
   "execution_count": null,
   "metadata": {},
   "outputs": [],
   "source": [
    "#-----------Importing Modules--------------\n",
    "# Sign-in\n",
    "from pydrive.auth import GoogleAuth\n",
    "# Creating Service \n",
    "from pydrive.drive import GoogleDrive\n",
    "# To work with time\n",
    "import datetime\n",
    "from datetime import date\n",
    "# Import os to work with local files and folders, examining user OS \n",
    "from os import listdir\n",
    "from os.path import isfile, join\n",
    "import os.path\n",
    "# Working with mail\n",
    "import smtplib, ssl\n",
    "\n",
    "import getpass    # https://www.geeksforgeeks.org/getpass-and-getuser-in-python-password-without-echo/"
   ]
  },
  {
   "cell_type": "code",
   "execution_count": 1,
   "metadata": {},
   "outputs": [],
   "source": [
    "#Generating authenciating token\n",
    "gauth = GoogleAuth()\n",
    "# Try to load saved client credentials\n",
    "gauth.LoadCredentialsFile(\"mycreds.txt\")\n",
    "if gauth.credentials is None:\n",
    "    # Authenticate if they're not there\n",
    "    gauth.LocalWebserverAuth()\n",
    "elif gauth.access_token_expired:\n",
    "# Refresh them if expired\n",
    "    gauth.Refresh()\n",
    "else:\n",
    "    # Initialize the saved creds\n",
    "    gauth.Authorize()\n",
    "# Save the current credentials to a file\n",
    "gauth.SaveCredentialsFile(\"mycreds.txt\")"
   ]
  },
  {
   "cell_type": "code",
   "execution_count": null,
   "metadata": {},
   "outputs": [],
   "source": [
    "#Authorize Drive\n",
    "def authorize_drive ():\n",
    "    gauth = GoogleAuth()\n",
    "    gauth.DEFAULT_SETTINGS['client_config_file'] = \"client_secret.json\"\n",
    "    gauth.LoadCredentialsFile(\"mycreds.txt\")\n",
    "    return GoogleDrive(gauth)"
   ]
  },
  {
   "cell_type": "code",
   "execution_count": 4,
   "metadata": {},
   "outputs": [
    {
     "ename": "SyntaxError",
     "evalue": "unexpected EOF while parsing (<ipython-input-4-4ecdeda6cf58>, line 6)",
     "output_type": "error",
     "traceback": [
      "\u001b[0;36m  File \u001b[0;32m\"<ipython-input-4-4ecdeda6cf58>\"\u001b[0;36m, line \u001b[0;32m6\u001b[0m\n\u001b[0;31m    def Create_A_New_Folder(self):\u001b[0m\n\u001b[0m                                  ^\u001b[0m\n\u001b[0;31mSyntaxError\u001b[0m\u001b[0;31m:\u001b[0m unexpected EOF while parsing\n"
     ]
    }
   ],
   "source": [
    "class Drive:\n",
    "    def __init__(self):\n",
    "        self.drive = authorize_drive()\n",
    "    def Getting_All_Folders(self):\n",
    "        folder = self.drive.ListFile({'q': \"mimeType = 'application/vnd.google-apps.folder' and trashed = false\"}).GetList()\n",
    "    def Create_A_New_Folder(self, parent_name, folder_name):\n",
    "        folders = self.GetAllFolder()\n",
    "        parent_id = \"\"\n",
    "        for folder in folders : \n",
    "            if folder['title'] == parent_name : # Creating folder \n",
    "                parent_id = folder['id']\n",
    "                break\n",
    "        if (parent_name == 'root') or (lower.parent_name() == 'none') :# Uploading directly to root folder\n",
    "            newFolder = drive.CreateFile({\n",
    "                'title': '[' + str(date.today()) + '] ' + folder_name,\n",
    "                'mimeType': 'application/vnd.google-apps.folder'\n",
    "            })\n",
    "        else : # Creating a sub-folder\n",
    "            newFolder = drive.CreateFile({\n",
    "                'title': '[' + str(date.today()) + '] ' + folder_name,\n",
    "                'parents': [{'id': parent_id}],\n",
    "                'mimeType': 'application/vnd.google-apps.folder'\n",
    "            })\n",
    "        newFolder.Upload()\n",
    "        return newFolder\n",
    "    def UploadFiles(self,file,folderId) :\n",
    "        if folderId.lower() != 'root' :\n",
    "            uploadFile = self.drive.CreateFile({\n",
    "                'parents' : [{'id' : folderId}],\n",
    "                'title': file[ : -4]\n",
    "            })\n",
    "        else :\n",
    "            uploadFile = self.drive.CreateFile({\n",
    "                'title': file[ : -4]\n",
    "            })\n",
    "        uploadFile.SetContentFile(filesContainer + file)\n",
    "        uploadFile.Upload()\n",
    "    @staticmethod\n",
    "    def Sending_Email(receiverEmail):\n",
    "        port = 587  # For starttls\n",
    "    smtp_server = \"smtp.gmail.com\"\n",
    "    sender_email = \"phonglearntodev@gmail.com\"    # Your email address\n",
    "    receiver_email = receiverEmail\n",
    "    # password = input(\"Type your password and press enter:\")\n",
    "    password = 'Phong2307hn'    # Your password\n",
    "    message = \"\"\"\\\n",
    "    Subject: Notification from Google Drive\n",
    "\n",
    "    %d files(s) have been successfully uploaded\n",
    "    - - - - - - - - -\n",
    "\n",
    "    %s\n",
    "    \"\"\" % (numFiles, detailInfo)\n",
    "    context = ssl.create_default_context()\n",
    "    with smtplib.SMTP(smtp_server, port) as server:\n",
    "    #     server.ehlo()  # Can be omitted\n",
    "        server.starttls(context=context)\n",
    "    #     server.ehlo()  # Can be omitted\n",
    "        server.login(sender_email, password)\n",
    "        server.sendmail(sender_email, receiver_email, message)"
   ]
  },
  {
   "cell_type": "code",
   "execution_count": null,
   "metadata": {},
   "outputs": [],
   "source": []
  }
 ],
 "metadata": {
  "kernelspec": {
   "display_name": "AutoUpload_env",
   "language": "python",
   "name": "autoupload_env"
  },
  "language_info": {
   "codemirror_mode": {
    "name": "ipython",
    "version": 3
   },
   "file_extension": ".py",
   "mimetype": "text/x-python",
   "name": "python",
   "nbconvert_exporter": "python",
   "pygments_lexer": "ipython3",
   "version": "3.8.5"
  }
 },
 "nbformat": 4,
 "nbformat_minor": 4
}
